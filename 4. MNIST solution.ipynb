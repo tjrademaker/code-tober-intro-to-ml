{
  "nbformat": 4,
  "nbformat_minor": 0,
  "metadata": {
    "colab": {
      "name": "4. MNIST solution.ipynb",
      "provenance": []
    },
    "kernelspec": {
      "name": "python3",
      "display_name": "Python 3"
    }
  },
  "cells": [
    {
      "cell_type": "markdown",
      "metadata": {
        "id": "aF-rdq8ZEDkg",
        "colab_type": "text"
      },
      "source": [
        "# First try at classifying low-resolution hand-written digits"
      ]
    },
    {
      "cell_type": "code",
      "metadata": {
        "id": "gta4ruAa5SNi",
        "colab_type": "code",
        "colab": {}
      },
      "source": [
        "from sklearn import datasets, model_selection, linear_model, neural_network\n",
        "\n",
        "import numpy as np\n",
        "import matplotlib.pyplot as plt"
      ],
      "execution_count": 0,
      "outputs": []
    },
    {
      "cell_type": "code",
      "metadata": {
        "id": "Au4Gx_SQ567g",
        "colab_type": "code",
        "colab": {}
      },
      "source": [
        "# First we load the data\n",
        "mnist = datasets.load_digits()\n",
        "X,y=mnist.images,mnist.target\n",
        "X = X.reshape(len(X),-1)"
      ],
      "execution_count": 0,
      "outputs": []
    },
    {
      "cell_type": "code",
      "metadata": {
        "id": "kLH7-ChA6VkY",
        "colab_type": "code",
        "outputId": "5cce3d64-24e9-43f0-8c86-48e550b458e2",
        "colab": {
          "base_uri": "https://localhost:8080/",
          "height": 1000
        }
      },
      "source": [
        "# Let's see what the data looks like\n",
        "for idx in np.random.random(10)*len(X):\n",
        "  print(\"This digit is a %d\"%y[int(idx)])\n",
        "  plt.imshow(mnist.images[int(idx)],\"Greys\")\n",
        "  plt.axis('off')\n",
        "  plt.show()"
      ],
      "execution_count": 0,
      "outputs": [
        {
          "output_type": "stream",
          "text": [
            "This digit is a 8\n"
          ],
          "name": "stdout"
        },
        {
          "output_type": "display_data",
          "data": {
            "image/png": "[encoded data removed]",
            "text/plain": [
              "<Figure size 432x288 with 1 Axes>"
            ]
          },
          "metadata": {
            "tags": []
          }
        },
        {
          "output_type": "stream",
          "text": [
            "This digit is a 9\n"
          ],
          "name": "stdout"
        },
        {
          "output_type": "display_data",
          "data": {
            "image/png": "[encoded data removed]",
            "text/plain": [
              "<Figure size 432x288 with 1 Axes>"
            ]
          },
          "metadata": {
            "tags": []
          }
        },
        {
          "output_type": "stream",
          "text": [
            "This digit is a 0\n"
          ],
          "name": "stdout"
        },
        {
          "output_type": "display_data",
          "data": {
            "image/png": "[encoded data removed]",
            "text/plain": [
              "<Figure size 432x288 with 1 Axes>"
            ]
          },
          "metadata": {
            "tags": []
          }
        },
        {
          "output_type": "stream",
          "text": [
            "This digit is a 0\n"
          ],
          "name": "stdout"
        },
        {
          "output_type": "display_data",
          "data": {
            "image/png": "[encoded data removed]",
            "text/plain": [
              "<Figure size 432x288 with 1 Axes>"
            ]
          },
          "metadata": {
            "tags": []
          }
        },
        {
          "output_type": "stream",
          "text": [
            "This digit is a 5\n"
          ],
          "name": "stdout"
        },
        {
          "output_type": "display_data",
          "data": {
            "image/png": "[encoded data removed]",
            "text/plain": [
              "<Figure size 432x288 with 1 Axes>"
            ]
          },
          "metadata": {
            "tags": []
          }
        },
        {
          "output_type": "stream",
          "text": [
            "This digit is a 6\n"
          ],
          "name": "stdout"
        },
        {
          "output_type": "display_data",
          "data": {
            "image/png": "[encoded data removed]",
            "text/plain": [
              "<Figure size 432x288 with 1 Axes>"
            ]
          },
          "metadata": {
            "tags": []
          }
        },
        {
          "output_type": "stream",
          "text": [
            "This digit is a 4\n"
          ],
          "name": "stdout"
        },
        {
          "output_type": "display_data",
          "data": {
            "image/png": "[encoded data removed]",
            "text/plain": [
              "<Figure size 432x288 with 1 Axes>"
            ]
          },
          "metadata": {
            "tags": []
          }
        },
        {
          "output_type": "stream",
          "text": [
            "This digit is a 3\n"
          ],
          "name": "stdout"
        },
        {
          "output_type": "display_data",
          "data": {
            "image/png": "[encoded data removed]",
            "text/plain": [
              "<Figure size 432x288 with 1 Axes>"
            ]
          },
          "metadata": {
            "tags": []
          }
        },
        {
          "output_type": "stream",
          "text": [
            "This digit is a 5\n"
          ],
          "name": "stdout"
        },
        {
          "output_type": "display_data",
          "data": {
            "image/png": "[encoded data removed]",
            "text/plain": [
              "<Figure size 432x288 with 1 Axes>"
            ]
          },
          "metadata": {
            "tags": []
          }
        },
        {
          "output_type": "stream",
          "text": [
            "This digit is a 6\n"
          ],
          "name": "stdout"
        },
        {
          "output_type": "display_data",
          "data": {
            "image/png": "[encoded data removed]",
            "text/plain": [
              "<Figure size 432x288 with 1 Axes>"
            ]
          },
          "metadata": {
            "tags": []
          }
        }
      ]
    },
    {
      "cell_type": "markdown",
      "metadata": {
        "id": "sJXoSf8AERm5",
        "colab_type": "text"
      },
      "source": [
        "It looks like we are dealing with low resolution digits. They are not very easy to classify by eye, but the computer should do an okay job!"
      ]
    },
    {
      "cell_type": "code",
      "metadata": {
        "id": "GF7pqFu97GNj",
        "colab_type": "code",
        "colab": {}
      },
      "source": [
        "# We now normalize the data\n",
        "X = (X-X.min())/(X.max()-X.min())\n",
        "# and split the data in a train and test set with predefined size (test_size = 0.2) and small )\n",
        "x_tr, x_te, y_tr, y_te = model_selection.train_test_split(X,y, test_size=0.2)"
      ],
      "execution_count": 0,
      "outputs": []
    },
    {
      "cell_type": "code",
      "metadata": {
        "id": "BHXzM0k59VR3",
        "colab_type": "code",
        "outputId": "fb7501d5-7197-454e-ed5e-3c991fa786fc",
        "colab": {
          "base_uri": "https://localhost:8080/",
          "height": 122
        }
      },
      "source": [
        "# and we learn a logistic regression model\n",
        "clf = linear_model.LogisticRegression()\n",
        "clf.fit(x_tr,y_tr)\n",
        "clf.score(x_te,y_te)"
      ],
      "execution_count": 0,
      "outputs": [
        {
          "output_type": "stream",
          "text": [
            "/usr/local/lib/python3.6/dist-packages/sklearn/linear_model/logistic.py:432: FutureWarning: Default solver will be changed to 'lbfgs' in 0.22. Specify a solver to silence this warning.\n",
            "  FutureWarning)\n",
            "/usr/local/lib/python3.6/dist-packages/sklearn/linear_model/logistic.py:469: FutureWarning: Default multi_class will be changed to 'auto' in 0.22. Specify the multi_class option to silence this warning.\n",
            "  \"this warning.\", FutureWarning)\n"
          ],
          "name": "stderr"
        },
        {
          "output_type": "execute_result",
          "data": {
            "text/plain": [
              "0.9666666666666667"
            ]
          },
          "metadata": {
            "tags": []
          },
          "execution_count": 129
        }
      ]
    },
    {
      "cell_type": "markdown",
      "metadata": {
        "id": "3KEsQhOkD_U4",
        "colab_type": "text"
      },
      "source": [
        "That's a pretty good score already. How did it do that?"
      ]
    },
    {
      "cell_type": "code",
      "metadata": {
        "id": "7Fuh54km_xa6",
        "colab_type": "code",
        "outputId": "a33a9f50-0ea8-4077-977d-dc9604dbe9bc",
        "colab": {
          "base_uri": "https://localhost:8080/",
          "height": 1000
        }
      },
      "source": [
        "# Let us plot all the learned coefficients\n",
        "for i,weights in enumerate(clf.coef_):\n",
        "  print(i)\n",
        "  plt.imshow(weights.reshape(8,8),\"Greys\")\n",
        "  plt.axis('off')\n",
        "  plt.show()"
      ],
      "execution_count": 0,
      "outputs": [
        {
          "output_type": "stream",
          "text": [
            "0\n"
          ],
          "name": "stdout"
        },
        {
          "output_type": "display_data",
          "data": {
            "image/png": "[encoded data removed]",
            "text/plain": [
              "<Figure size 432x288 with 1 Axes>"
            ]
          },
          "metadata": {
            "tags": []
          }
        },
        {
          "output_type": "stream",
          "text": [
            "1\n"
          ],
          "name": "stdout"
        },
        {
          "output_type": "display_data",
          "data": {
            "image/png": "[encoded data removed]",
            "text/plain": [
              "<Figure size 432x288 with 1 Axes>"
            ]
          },
          "metadata": {
            "tags": []
          }
        },
        {
          "output_type": "stream",
          "text": [
            "2\n"
          ],
          "name": "stdout"
        },
        {
          "output_type": "display_data",
          "data": {
            "image/png": "[encoded data removed]",
            "text/plain": [
              "<Figure size 432x288 with 1 Axes>"
            ]
          },
          "metadata": {
            "tags": []
          }
        },
        {
          "output_type": "stream",
          "text": [
            "3\n"
          ],
          "name": "stdout"
        },
        {
          "output_type": "display_data",
          "data": {
            "image/png": "[encoded data removed]",
            "text/plain": [
              "<Figure size 432x288 with 1 Axes>"
            ]
          },
          "metadata": {
            "tags": []
          }
        },
        {
          "output_type": "stream",
          "text": [
            "4\n"
          ],
          "name": "stdout"
        },
        {
          "output_type": "display_data",
          "data": {
            "image/png": "[encoded data removed]",
            "text/plain": [
              "<Figure size 432x288 with 1 Axes>"
            ]
          },
          "metadata": {
            "tags": []
          }
        },
        {
          "output_type": "stream",
          "text": [
            "5\n"
          ],
          "name": "stdout"
        },
        {
          "output_type": "display_data",
          "data": {
            "image/png": "[encoded data removed]",
            "text/plain": [
              "<Figure size 432x288 with 1 Axes>"
            ]
          },
          "metadata": {
            "tags": []
          }
        },
        {
          "output_type": "stream",
          "text": [
            "6\n"
          ],
          "name": "stdout"
        },
        {
          "output_type": "display_data",
          "data": {
            "image/png": "[encoded data removed]",
            "text/plain": [
              "<Figure size 432x288 with 1 Axes>"
            ]
          },
          "metadata": {
            "tags": []
          }
        },
        {
          "output_type": "stream",
          "text": [
            "7\n"
          ],
          "name": "stdout"
        },
        {
          "output_type": "display_data",
          "data": {
            "image/png": "[encoded data removed]",
            "text/plain": [
              "<Figure size 432x288 with 1 Axes>"
            ]
          },
          "metadata": {
            "tags": []
          }
        },
        {
          "output_type": "stream",
          "text": [
            "8\n"
          ],
          "name": "stdout"
        },
        {
          "output_type": "display_data",
          "data": {
            "image/png": "[encoded data removed]",
            "text/plain": [
              "<Figure size 432x288 with 1 Axes>"
            ]
          },
          "metadata": {
            "tags": []
          }
        },
        {
          "output_type": "stream",
          "text": [
            "9\n"
          ],
          "name": "stdout"
        },
        {
          "output_type": "display_data",
          "data": {
            "image/png": "[encoded data removed]",
            "text/plain": [
              "<Figure size 432x288 with 1 Axes>"
            ]
          },
          "metadata": {
            "tags": []
          }
        }
      ]
    },
    {
      "cell_type": "markdown",
      "metadata": {
        "id": "R54P-h-kCt-b",
        "colab_type": "text"
      },
      "source": [
        "The classifier picks up on statistical features that allow one to differentiate the data.\n",
        "\n",
        "Something that we can see from here is that the left and right edges are a uniform color, which means the network does not use this information to classify digits"
      ]
    },
    {
      "cell_type": "code",
      "metadata": {
        "id": "pJ-D-SaDOaZ_",
        "colab_type": "code",
        "outputId": "aa56bf6f-b995-4727-e26a-30da4cfbca1a",
        "colab": {
          "base_uri": "https://localhost:8080/",
          "height": 68
        }
      },
      "source": [
        "# If we want to see how the classification is done, we will have to do the matrix multiplication ourselves\n",
        "np.dot(X_te[0],clf.coef_.T)"
      ],
      "execution_count": 0,
      "outputs": [
        {
          "output_type": "execute_result",
          "data": {
            "text/plain": [
              "array([ -77.22146832,   -6.73159216, -168.33882295, -241.25599293,\n",
              "         63.48557868,  -90.06085695,  -52.8194868 ,  -73.77222187,\n",
              "        -50.46181084,  -94.14947221])"
            ]
          },
          "metadata": {
            "tags": []
          },
          "execution_count": 138
        }
      ]
    },
    {
      "cell_type": "code",
      "metadata": {
        "id": "NAboir6_Oacm",
        "colab_type": "code",
        "outputId": "2ca8b06c-0c87-44ee-ee56-ca50b5ad97ba",
        "colab": {
          "base_uri": "https://localhost:8080/",
          "height": 34
        }
      },
      "source": [
        "# The index with the highest number is 4, so the classifier predicts 4\n",
        "clf.predict(X_te[0].reshape(1,-1))"
      ],
      "execution_count": 0,
      "outputs": [
        {
          "output_type": "execute_result",
          "data": {
            "text/plain": [
              "array([4])"
            ]
          },
          "metadata": {
            "tags": []
          },
          "execution_count": 140
        }
      ]
    },
    {
      "cell_type": "code",
      "metadata": {
        "id": "pmAqWXHjATHk",
        "colab_type": "code",
        "outputId": "65e64a7f-b7d6-4a9f-9928-bbcbe921de49",
        "colab": {
          "base_uri": "https://localhost:8080/",
          "height": 51
        }
      },
      "source": [
        "# Now let's try this with a neural network\n",
        "mlp = neural_network.MLPClassifier(hidden_layer_sizes=(10,),activation='identity',alpha=0.01,max_iter=1000)\n",
        "mlp.fit(x_tr,y_tr)\n",
        "\n",
        "train_score = mlp.score(x_tr, y_tr)\n",
        "test_score = mlp.score(x_te, y_te)\n",
        "\n",
        "print(\"Training score:\", train_score)\n",
        "print(\"Validation score:\", test_score)"
      ],
      "execution_count": 0,
      "outputs": [
        {
          "output_type": "stream",
          "text": [
            "Training score: 1.0\n",
            "Validation score: 0.9694444444444444\n"
          ],
          "name": "stdout"
        }
      ]
    },
    {
      "cell_type": "code",
      "metadata": {
        "id": "5YYjywdjAnpf",
        "colab_type": "code",
        "outputId": "4e4590d9-50b0-4490-cb70-c840b13aa173",
        "colab": {
          "base_uri": "https://localhost:8080/",
          "height": 286
        }
      },
      "source": [
        "# This is a bit worse, why is that? It can be due to a variety of reasons\n",
        "# First, let's plot the loss function to see if something went wrong\n",
        "plt.plot(mlp.loss_curve_)"
      ],
      "execution_count": 0,
      "outputs": [
        {
          "output_type": "execute_result",
          "data": {
            "text/plain": [
              "[<matplotlib.lines.Line2D at 0x7f1aa967e358>]"
            ]
          },
          "metadata": {
            "tags": []
          },
          "execution_count": 108
        },
        {
          "output_type": "display_data",
          "data": {
            "image/png": "[encoded data removed]",
            "text/plain": [
              "<Figure size 432x288 with 1 Axes>"
            ]
          },
          "metadata": {
            "tags": []
          }
        }
      ]
    },
    {
      "cell_type": "markdown",
      "metadata": {
        "id": "o6s0PWofFYm5",
        "colab_type": "text"
      },
      "source": [
        "That looks fine, although we might have learned for too long (could case overfitting). Let us play with hyperparameters to see if there is anything that we can obviously do better"
      ]
    },
    {
      "cell_type": "code",
      "metadata": {
        "id": "RGBhxXq4-kpR",
        "colab_type": "code",
        "colab": {}
      },
      "source": [
        "# Play with the hyperparameters and try to get this a bit better\n",
        "# Some hyperparameters that one could tune\n",
        "# - number of neurons and hidden layer via hidden_layer_sizes(,)\n",
        "# - activation function\n",
        "# - regularization rate via alpha\n",
        "# - number of iterations via max_iter"
      ],
      "execution_count": 0,
      "outputs": []
    },
    {
      "cell_type": "markdown",
      "metadata": {
        "id": "6w-f_I2oHNFW",
        "colab_type": "text"
      },
      "source": [
        "**Exercise:** Play with the hyperparameters and try to get this a bit better. Some hyperparameters that one could tune\n",
        "1.   number of neurons and hidden layer via hidden_layer_sizes(,)\n",
        "2.   activation function\n",
        "3.   regularization rate via alpha\n",
        "4.   number of iterations via max_iter\n",
        "\n",
        "There exist standardized ways for this (GridSearchCV) but that is more advanced"
      ]
    },
    {
      "cell_type": "code",
      "metadata": {
        "id": "099gungTBtsd",
        "colab_type": "code",
        "colab": {}
      },
      "source": [
        ""
      ],
      "execution_count": 0,
      "outputs": []
    }
  ]
}